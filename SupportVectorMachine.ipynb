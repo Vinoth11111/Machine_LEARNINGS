{
  "nbformat": 4,
  "nbformat_minor": 0,
  "metadata": {
    "colab": {
      "provenance": [],
      "authorship_tag": "ABX9TyMwr6QTVN66EpGAlwjDNlV4",
      "include_colab_link": true
    },
    "kernelspec": {
      "name": "python3",
      "display_name": "Python 3"
    },
    "language_info": {
      "name": "python"
    }
  },
  "cells": [
    {
      "cell_type": "markdown",
      "metadata": {
        "id": "view-in-github",
        "colab_type": "text"
      },
      "source": [
        "<a href=\"https://colab.research.google.com/github/Vinoth11111/Machine_LEARNINGS/blob/main/SupportVectorMachine.ipynb\" target=\"_parent\"><img src=\"https://colab.research.google.com/assets/colab-badge.svg\" alt=\"Open In Colab\"/></a>"
      ]
    },
    {
      "cell_type": "code",
      "execution_count": 59,
      "metadata": {
        "id": "IFVeHLy9HzJj"
      },
      "outputs": [],
      "source": [
        "import numpy as np\n",
        "from cvxopt import matrix, solvers\n",
        "import matplotlib.pyplot as plt"
      ]
    },
    {
      "cell_type": "markdown",
      "source": [
        "#support vector machine\n",
        "\n",
        "support vetor machine is a superviced machine learning algorithm user for calssification and can some times used for regression problem,\n",
        "svm work by crearting lines or hyperplanes which seperate the class(1,-1).\n",
        "for non linear data we use kernel.\n",
        "there are differnrt types of kernal used in svm based on the problem and the characteristic of the data.\n",
        "\n",
        "*linear\n",
        "*rbf\n",
        "*polynomial\n",
        "\n",
        "\n",
        "the distance between hyperplane and the nearest datapoint is the support vector\n",
        "\n",
        "margin- it create a imaginary boundy between the hyperplane for better classification\n",
        "\n",
        "hard margin - its a line which perfectly seperate the data, no misclassification.\n",
        "\n",
        "soft margin- its a line where misclassification where allowed.\n",
        "\n",
        "#svm use dual optimization for creating the boundry,\n",
        "key intakes:\n",
        "* dual optimization need:\n",
        "* p - quardratic term matrix(y*k)\n",
        "* q - Linear term (-1)*len(x)\n",
        "* k - gram matrix(x*x.T)\n",
        "* A -(y in one dim),b = 0, equality constriant(where some values need to be perfectly equal)(mostly zeros) what i used.\n",
        "* G - inequality constraints(where the values must be in particular range)here alpha >=0.\n",
        "* H- upper bound of inequality contraints.matrix(0)"
      ],
      "metadata": {
        "id": "ChhHPqdUJnho"
      }
    },
    {
      "cell_type": "code",
      "source": [
        "X = np.array([[2, 3], [3, 4], [1, 1], [2, 1]],dtype = float)\n",
        "y = np.array([1, 1, -1, -1],dtype = float)"
      ],
      "metadata": {
        "id": "DBoIb9ciiv_B"
      },
      "execution_count": 60,
      "outputs": []
    },
    {
      "cell_type": "code",
      "source": [
        "k = np.dot(X,X.T) # grain matrix\n",
        "p = matrix(np.outer(y, y) * k) # as in formula (y,y)*grain matrix, we have multiple yi*kj\n",
        "q = matrix(-np.ones(X.shape[0])) # linear objective function -1*len(x)\n",
        "g = matrix(-np.eye(X.shape[0])) # as for g we have to create alpha>=0 but here we create -alpha <=0 both is same.\n",
        "h = matrix(np.zeros(X.shape[0]))#upper boundery for inequality contraints\n",
        "a = matrix(y, (1,X.shape[0]))# equality contsraints\n",
        "b = matrix(0.00)#"
      ],
      "metadata": {
        "id": "dHsZIrAajk9-"
      },
      "execution_count": 61,
      "outputs": []
    },
    {
      "cell_type": "code",
      "source": [
        "solve = solvers.qp(p,q,g,h,a,b)\n",
        "alphas = np.ravel(solve['x'])\n",
        "sv_idx = alphas > 1e-5\n",
        "alpha_sv = alphas[sv_idx]\n",
        "x_sv = X[sv_idx]\n",
        "y_sv = y[sv_idx]"
      ],
      "metadata": {
        "colab": {
          "base_uri": "https://localhost:8080/"
        },
        "id": "C8opAfCLj28s",
        "outputId": "c81c0a4f-3cbd-4095-9283-15fe77a2b41a"
      },
      "execution_count": 62,
      "outputs": [
        {
          "output_type": "stream",
          "name": "stdout",
          "text": [
            "     pcost       dcost       gap    pres   dres\n",
            " 0: -5.7187e-01 -1.3783e+00  7e+00  2e+00  2e+00\n",
            " 1: -3.2923e-01 -1.1181e+00  8e-01  4e-16  1e-15\n",
            " 2: -4.8350e-01 -5.4647e-01  6e-02  1e-16  9e-16\n",
            " 3: -4.9748e-01 -5.0310e-01  6e-03  1e-16  1e-15\n",
            " 4: -4.9969e-01 -5.0033e-01  6e-04  6e-17  1e-15\n",
            " 5: -4.9996e-01 -5.0005e-01  9e-05  1e-16  3e-16\n",
            " 6: -4.9999e-01 -5.0001e-01  1e-05  2e-16  9e-16\n",
            " 7: -5.0000e-01 -5.0000e-01  2e-06  1e-16  5e-16\n",
            " 8: -5.0000e-01 -5.0000e-01  3e-07  1e-16  5e-16\n",
            "Optimal solution found.\n"
          ]
        }
      ]
    },
    {
      "cell_type": "code",
      "source": [
        "w = np.sum(alpha_sv[:,None] * y_sv[:,None]* x_sv,axis =0)\n",
        "b = np.mean(y_sv - np.dot(x_sv, w))"
      ],
      "metadata": {
        "id": "KZya2ZG1j4bQ"
      },
      "execution_count": 63,
      "outputs": []
    },
    {
      "cell_type": "code",
      "source": [
        "print('weight',w)\n",
        "print('bias',y)"
      ],
      "metadata": {
        "colab": {
          "base_uri": "https://localhost:8080/"
        },
        "id": "T3Cosi6dlV18",
        "outputId": "6dd185bf-5444-46a5-9055-5c2bdb8a1060"
      },
      "execution_count": 64,
      "outputs": [
        {
          "output_type": "stream",
          "name": "stdout",
          "text": [
            "weight [4.90134546e-04 9.99999988e-01]\n",
            "bias [ 1.  1. -1. -1.]\n"
          ]
        }
      ]
    },
    {
      "cell_type": "code",
      "source": [
        "def predict(x):\n",
        "  return np.sign(np.dot(x,w)+b)"
      ],
      "metadata": {
        "id": "bKQb8yQRmTpf"
      },
      "execution_count": 65,
      "outputs": []
    },
    {
      "cell_type": "code",
      "source": [
        "print(\"Pred:\", predict([[2, 2]]))\n",
        "new_x = [[2, 2]]"
      ],
      "metadata": {
        "colab": {
          "base_uri": "https://localhost:8080/"
        },
        "id": "zNSSREwemWT0",
        "outputId": "0fa2093a-7fce-4c22-9b52-887f8525aee9"
      },
      "execution_count": 66,
      "outputs": [
        {
          "output_type": "stream",
          "name": "stdout",
          "text": [
            "Pred: [1.]\n"
          ]
        }
      ]
    },
    {
      "cell_type": "code",
      "source": [],
      "metadata": {
        "id": "CioiUWL3yfPq"
      },
      "execution_count": null,
      "outputs": []
    }
  ]
}